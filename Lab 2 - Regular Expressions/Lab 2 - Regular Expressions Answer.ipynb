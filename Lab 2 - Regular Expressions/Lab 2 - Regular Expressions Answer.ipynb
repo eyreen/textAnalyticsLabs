{
 "cells": [
  {
   "cell_type": "code",
   "execution_count": 46,
   "id": "7b229787",
   "metadata": {},
   "outputs": [],
   "source": [
    "#importing regular expression library \n",
    "import re "
   ]
  },
  {
   "cell_type": "markdown",
   "id": "19b421d1",
   "metadata": {},
   "source": [
    "## re.match()"
   ]
  },
  {
   "cell_type": "code",
   "execution_count": 20,
   "id": "cb838629",
   "metadata": {},
   "outputs": [
    {
     "name": "stdout",
     "output_type": "stream",
     "text": [
      "<re.Match object; span=(0, 1), match='I'>\n"
     ]
    }
   ],
   "source": [
    "#using re.match \n",
    "#to find the first occurrence of the letter 'I' in the string \n",
    " \n",
    "sentence1 = re.match (r'I', 'I am learning text analytics') \n",
    "print (sentence1) \n"
   ]
  },
  {
   "cell_type": "code",
   "execution_count": 4,
   "id": "818f492b",
   "metadata": {},
   "outputs": [
    {
     "name": "stdout",
     "output_type": "stream",
     "text": [
      "None\n"
     ]
    }
   ],
   "source": [
    "#using re.match \n",
    "#to find the first occurrence of the letter 'v' in the string \n",
    " \n",
    "sentence2 = re.match (r'v', 'I am learning text analytics') \n",
    "print (sentence2) "
   ]
  },
  {
   "cell_type": "code",
   "execution_count": 5,
   "id": "85ec9f2f",
   "metadata": {},
   "outputs": [
    {
     "name": "stdout",
     "output_type": "stream",
     "text": [
      "None\n"
     ]
    }
   ],
   "source": [
    "#using re.match \n",
    "#to find the first occurrence of the letter 'am' in the string \n",
    " \n",
    "sentence3 = re.match (r'am', 'I am learning text analytics') \n",
    "print (sentence3) "
   ]
  },
  {
   "cell_type": "markdown",
   "id": "2a6d4c05",
   "metadata": {},
   "source": [
    "## re.search()"
   ]
  },
  {
   "cell_type": "code",
   "execution_count": 7,
   "id": "3b86a9c1",
   "metadata": {},
   "outputs": [
    {
     "name": "stdout",
     "output_type": "stream",
     "text": [
      "<re.Match object; span=(2, 4), match='am'>\n"
     ]
    }
   ],
   "source": [
    "sentence4 = re.search(r'am', 'I am learning text analytics')  \n",
    "print (sentence4)  "
   ]
  },
  {
   "cell_type": "code",
   "execution_count": 8,
   "id": "1dab5feb",
   "metadata": {},
   "outputs": [
    {
     "name": "stdout",
     "output_type": "stream",
     "text": [
      "<re.Match object; span=(2, 4), match='am'>\n"
     ]
    }
   ],
   "source": [
    "sentence5 = re.search(r'am', 'I am learning text analytics and am enjoying it')  \n",
    "print (sentence5)  "
   ]
  },
  {
   "cell_type": "markdown",
   "id": "b5ecdd97",
   "metadata": {},
   "source": [
    "## re.findall()"
   ]
  },
  {
   "cell_type": "code",
   "execution_count": 9,
   "id": "7c953867",
   "metadata": {},
   "outputs": [
    {
     "name": "stdout",
     "output_type": "stream",
     "text": [
      "['am', 'am']\n"
     ]
    }
   ],
   "source": [
    "sentence6 = re.findall(r'am', 'I am learning text analytics and am enjoying it')  \n",
    "print (sentence6)  "
   ]
  },
  {
   "cell_type": "markdown",
   "id": "12ea615d",
   "metadata": {},
   "source": [
    "## re.split"
   ]
  },
  {
   "cell_type": "code",
   "execution_count": 10,
   "id": "682045d1",
   "metadata": {},
   "outputs": [
    {
     "name": "stdout",
     "output_type": "stream",
     "text": [
      "['I am learning text analytics ', ' am enjoying it']\n"
     ]
    }
   ],
   "source": [
    "sentence7 = re.split(r'and', 'I am learning text analytics and am enjoying it')  \n",
    "print (sentence7)  "
   ]
  },
  {
   "cell_type": "code",
   "execution_count": 12,
   "id": "29d3195f",
   "metadata": {},
   "outputs": [
    {
     "name": "stdout",
     "output_type": "stream",
     "text": [
      "['I ', ' learning text analytics and ', ' enjoying it']\n"
     ]
    }
   ],
   "source": [
    "sentence8 = re.split(r'am', 'I am learning text analytics and am enjoying it')  \n",
    "print (sentence8)  "
   ]
  },
  {
   "cell_type": "code",
   "execution_count": 13,
   "id": "304a4b74",
   "metadata": {},
   "outputs": [
    {
     "name": "stdout",
     "output_type": "stream",
     "text": [
      "['I ', ' learning text analytics and am enjoying it']\n"
     ]
    }
   ],
   "source": [
    "sentence9 = re.split(r'am', 'I am learning text analytics and am enjoying it', maxsplit=1) \n",
    "print (sentence9)  "
   ]
  },
  {
   "cell_type": "code",
   "execution_count": 14,
   "id": "b95f0b8f",
   "metadata": {},
   "outputs": [
    {
     "name": "stdout",
     "output_type": "stream",
     "text": [
      "['I ', ' learning text analytics and ', ' enjoying it']\n"
     ]
    }
   ],
   "source": [
    "sentence9 = re.split(r'am', 'I am learning text analytics and am enjoying it', maxsplit=2) \n",
    "print (sentence9)  "
   ]
  },
  {
   "cell_type": "code",
   "execution_count": 15,
   "id": "60bc996e",
   "metadata": {},
   "outputs": [
    {
     "name": "stdout",
     "output_type": "stream",
     "text": [
      "['I ', ' learning text analytics, I ', ' enjoying it and I ', ' going to ace it']\n"
     ]
    }
   ],
   "source": [
    "sentence10 = re.split(r'am', 'I am learning text analytics, I am enjoying it and I am going to ace it', maxsplit=3) \n",
    "print (sentence10)  "
   ]
  },
  {
   "cell_type": "markdown",
   "id": "3667dd0a",
   "metadata": {},
   "source": [
    "## re.sub"
   ]
  },
  {
   "cell_type": "code",
   "execution_count": 16,
   "id": "425d3314",
   "metadata": {},
   "outputs": [
    {
     "name": "stdout",
     "output_type": "stream",
     "text": [
      "we like text analytics and we enjoy learning it\n"
     ]
    }
   ],
   "source": [
    "sentence11 = re.sub(r'I', 'we', 'I like text analytics and I enjoy learning it') \n",
    "print (sentence11)  "
   ]
  },
  {
   "cell_type": "markdown",
   "id": "d562c893",
   "metadata": {},
   "source": [
    "# Using Metacharacters"
   ]
  },
  {
   "cell_type": "markdown",
   "id": "99ea2992",
   "metadata": {},
   "source": [
    "## Metacharacter ."
   ]
  },
  {
   "cell_type": "code",
   "execution_count": 21,
   "id": "b9a72a60",
   "metadata": {},
   "outputs": [
    {
     "name": "stdout",
     "output_type": "stream",
     "text": [
      "['I', ' ', 'a', 'm', ' ', 'l', 'e', 'a', 'r', 'n', 'i', 'n', 'g', ' ', 't', 'e', 'x', 't', ' ', 'a', 'n', 'a', 'l', 'y', 't', 'i', 'c', 's']\n"
     ]
    }
   ],
   "source": [
    "sentence1 = re.findall (r'.', 'I am learning text analytics') \n",
    "print (sentence1) \n",
    " \n",
    "# Each letter is selected including spaces "
   ]
  },
  {
   "cell_type": "markdown",
   "id": "89c63f84",
   "metadata": {},
   "source": [
    "## Metacharacter \\w "
   ]
  },
  {
   "cell_type": "code",
   "execution_count": 23,
   "id": "fd227ec4",
   "metadata": {},
   "outputs": [
    {
     "name": "stdout",
     "output_type": "stream",
     "text": [
      "['I', 'a', 'm', 'l', 'e', 'a', 'r', 'n', 'i', 'n', 'g', 't', 'e', 'x', 't', 'a', 'n', 'a', 'l', 'y', 't', 'i', 'c', 's']\n"
     ]
    }
   ],
   "source": [
    "sentence2 = re.findall (r'\\w', 'I am learning text analytics') \n",
    "print (sentence2) \n",
    " \n",
    "# Each letter is selected excluding spaces \n"
   ]
  },
  {
   "cell_type": "markdown",
   "id": "9d5f2ee8",
   "metadata": {},
   "source": [
    "## Metacharacter \\w* "
   ]
  },
  {
   "cell_type": "code",
   "execution_count": 24,
   "id": "dec17253",
   "metadata": {},
   "outputs": [
    {
     "name": "stdout",
     "output_type": "stream",
     "text": [
      "['I', '', 'am', '', 'learning', '', 'text', '', 'analytics', '']\n"
     ]
    }
   ],
   "source": [
    "sentence3 = re.findall (r'\\w*', 'I am learning text analytics') \n",
    "print (sentence3) \n",
    " \n",
    "# Each word is selected including spaces \n"
   ]
  },
  {
   "cell_type": "markdown",
   "id": "14398a2e",
   "metadata": {},
   "source": [
    "## Metacharacter \\w+ "
   ]
  },
  {
   "cell_type": "code",
   "execution_count": 25,
   "id": "e2eac02f",
   "metadata": {},
   "outputs": [
    {
     "name": "stdout",
     "output_type": "stream",
     "text": [
      "['I', 'am', 'learning', 'text', 'analytics']\n"
     ]
    }
   ],
   "source": [
    "sentence4 = re.findall (r'\\w+', 'I am learning text analytics') \n",
    "print (sentence4) \n",
    " \n",
    "# Each word is selected excluding spaces \n"
   ]
  },
  {
   "cell_type": "markdown",
   "id": "d09c20d6",
   "metadata": {},
   "source": [
    "## Metacharacter ^\\w+ "
   ]
  },
  {
   "cell_type": "code",
   "execution_count": 26,
   "id": "20100d4d",
   "metadata": {},
   "outputs": [
    {
     "name": "stdout",
     "output_type": "stream",
     "text": [
      "['I']\n"
     ]
    }
   ],
   "source": [
    "sentence5 = re.findall (r'^\\w+', 'I am learning text analytics') \n",
    "print (sentence5) \n",
    " \n",
    "# First word is selected  \n"
   ]
  },
  {
   "cell_type": "markdown",
   "id": "00564241",
   "metadata": {},
   "source": [
    "## Metacharacter \\w+$ "
   ]
  },
  {
   "cell_type": "code",
   "execution_count": 27,
   "id": "8cc3c1a2",
   "metadata": {},
   "outputs": [
    {
     "name": "stdout",
     "output_type": "stream",
     "text": [
      "['analytics']\n"
     ]
    }
   ],
   "source": [
    "sentence6 = re.findall (r'\\w+$', 'I am learning text analytics') \n",
    "print (sentence6) \n",
    " \n",
    "# Last word is selected  \n"
   ]
  },
  {
   "cell_type": "markdown",
   "id": "bb658594",
   "metadata": {},
   "source": [
    "## Metacharacter \\w\\w"
   ]
  },
  {
   "cell_type": "code",
   "execution_count": 28,
   "id": "041a6b91",
   "metadata": {},
   "outputs": [
    {
     "name": "stdout",
     "output_type": "stream",
     "text": [
      "['am', 'le', 'ar', 'ni', 'ng', 'te', 'xt', 'an', 'al', 'yt', 'ic']\n"
     ]
    }
   ],
   "source": [
    "sentence7 = re.findall (r'\\w\\w', 'I am learning text analytics') \n",
    "print (sentence7) \n",
    " \n",
    "# 2 consecutive characters are selected \n"
   ]
  },
  {
   "cell_type": "markdown",
   "id": "e1e4163f",
   "metadata": {},
   "source": [
    "## Metacharacter \\b\\w\\w"
   ]
  },
  {
   "cell_type": "code",
   "execution_count": 29,
   "id": "5a0c6eb3",
   "metadata": {},
   "outputs": [
    {
     "name": "stdout",
     "output_type": "stream",
     "text": [
      "['am', 'le', 'te', 'an']\n"
     ]
    }
   ],
   "source": [
    "sentence8 = re.findall (r'\\b\\w\\w', 'I am learning text analytics') \n",
    "print (sentence8) \n",
    " \n",
    "# 2 consecutive characters in a string are selected \n"
   ]
  },
  {
   "cell_type": "markdown",
   "id": "f8b56685",
   "metadata": {},
   "source": [
    "## Extracting the domain type of email address"
   ]
  },
  {
   "cell_type": "code",
   "execution_count": 30,
   "id": "b7c83d39",
   "metadata": {},
   "outputs": [
    {
     "name": "stdout",
     "output_type": "stream",
     "text": [
      "['@text', '@analytics', '@textanalytics']\n"
     ]
    }
   ],
   "source": [
    "sentence9 = re.findall (r'@\\w+', 'user@text.com.my, user@analytics.gov.my, user@textanalytics.edu.my')\n",
    "print (sentence9) \n",
    " \n",
    "# Only the first word in the domain name is selected \n"
   ]
  },
  {
   "cell_type": "code",
   "execution_count": 31,
   "id": "ce77190f",
   "metadata": {},
   "outputs": [
    {
     "name": "stdout",
     "output_type": "stream",
     "text": [
      "['@text.com', '@analytics.gov', '@textanalytics.edu']\n"
     ]
    }
   ],
   "source": [
    "sentence10 = re.findall (r'@\\w+.\\w+','user@text.com.my, user@analytics.gov.my, user@textanalytics.edu.my')\n",
    "print (sentence10)\n"
   ]
  },
  {
   "cell_type": "code",
   "execution_count": 32,
   "id": "5b22b3d7",
   "metadata": {},
   "outputs": [
    {
     "name": "stdout",
     "output_type": "stream",
     "text": [
      "['@text.com.my', '@analytics.gov.my', '@textanalytics.edu.my']\n"
     ]
    }
   ],
   "source": [
    "sentence11 = re.findall (r'@\\w+.\\w+.\\w+', 'user@text.com.my, user@analytics.gov.my, user@textanalytics.edu.my')\n",
    "print (sentence11) \n",
    " \n",
    "# The full domain name is selected \n"
   ]
  },
  {
   "cell_type": "code",
   "execution_count": 35,
   "id": "1e4a94fd",
   "metadata": {},
   "outputs": [
    {
     "name": "stdout",
     "output_type": "stream",
     "text": [
      "['com.my', 'gov.my', 'edu.my']\n"
     ]
    }
   ],
   "source": [
    "# Solution  \n",
    " \n",
    "sentence12 = re.findall (r'@\\w+.(\\w+.\\w+)', 'user@text.com.my, user@analytics.gov.my, user@textanalytics.edu.my')\n",
    "print (sentence12) \n",
    " \n",
    "# To display the type of domain \n"
   ]
  },
  {
   "cell_type": "markdown",
   "id": "f1377e1b",
   "metadata": {},
   "source": [
    "## Extracting date"
   ]
  },
  {
   "cell_type": "code",
   "execution_count": 36,
   "id": "41e897b4",
   "metadata": {},
   "outputs": [
    {
     "name": "stdout",
     "output_type": "stream",
     "text": [
      "['15-05-20', '20-08-20']\n"
     ]
    }
   ],
   "source": [
    "sentence13 = re.findall (r'\\d{2}-\\d{2}-\\d{2}', 'Ahmad BIT(IS) 15-05-2001, Johnny BCS(SE) 20-08-2000')\n",
    "print (sentence13) \n",
    " \n",
    "# To display the date in the format of dd-mm-yy \n"
   ]
  },
  {
   "cell_type": "code",
   "execution_count": 37,
   "id": "daeb66d3",
   "metadata": {},
   "outputs": [
    {
     "name": "stdout",
     "output_type": "stream",
     "text": [
      "['15-05-2001', '20-08-2000']\n"
     ]
    }
   ],
   "source": [
    "sentence14 = re.findall (r'\\d{2}-\\d{2}-\\d{4}', 'Ahmad BIT(IS) 15-05-2001, Johnny BCS(SE) 20-08-2000')\n",
    "print (sentence14) \n",
    " \n",
    "# To display the date in the format of dd-mm-yyyy \n"
   ]
  },
  {
   "cell_type": "code",
   "execution_count": 38,
   "id": "516c8ce9",
   "metadata": {},
   "outputs": [
    {
     "name": "stdout",
     "output_type": "stream",
     "text": [
      "['2001', '2000']\n"
     ]
    }
   ],
   "source": [
    "sentence15 = re.findall (r'\\d{2}-\\d{2}-(\\d{4})', 'Ahmad BIT(IS) 15-05-2001, Johnny BCS(SE) 20-08-2000')\n",
    "print (sentence15) \n",
    " \n",
    "# Only the year will be displayed \n"
   ]
  },
  {
   "cell_type": "markdown",
   "id": "8d2571b5",
   "metadata": {},
   "source": [
    "## Selecting words that start with vowels in a string"
   ]
  },
  {
   "cell_type": "code",
   "execution_count": 39,
   "id": "2d53beff",
   "metadata": {},
   "outputs": [
    {
     "name": "stdout",
     "output_type": "stream",
     "text": [
      "['ave', 'eight', 'ory', 'ooks', 'often', 'ead', 'em', 'in', 'afternoon']\n"
     ]
    }
   ],
   "source": [
    "sentence16 = re.findall (r'[aeiouAEIOU]\\w+', 'I have eight story books. I often read them in afternoon')\n",
    "print (sentence16)\n",
    " \n",
    "# A sequence that starts with a vowel followed by one o rmore characters are selected \t\n"
   ]
  },
  {
   "cell_type": "code",
   "execution_count": 40,
   "id": "f3103bbc",
   "metadata": {},
   "outputs": [
    {
     "name": "stdout",
     "output_type": "stream",
     "text": [
      "['eight', 'often', 'in', 'afternoon']\n"
     ]
    }
   ],
   "source": [
    "sentence17 = re.findall (r'\\b[aeiouAEIOU]\\w+', 'I have eight story books. I often read them in afternoon')\n",
    "print (sentence17) \n",
    " \n",
    "# Only words that start with vowels are selected \n"
   ]
  },
  {
   "cell_type": "code",
   "execution_count": 41,
   "id": "b6210525",
   "metadata": {},
   "outputs": [
    {
     "name": "stdout",
     "output_type": "stream",
     "text": [
      "['have', 'story', 'books', 'read', 'them']\n"
     ]
    }
   ],
   "source": [
    "sentence18 = re.findall (r'\\b[^aeiouAEIOU\\s]\\w+', 'I have eight story books. I often read them in afternoon')\n",
    "print (sentence18) \n",
    " \n",
    "# Only words that start with non-vowels are selected \n"
   ]
  },
  {
   "cell_type": "markdown",
   "id": "e9d13962",
   "metadata": {},
   "source": [
    "## Splitting a string with multiple delimiters"
   ]
  },
  {
   "cell_type": "code",
   "execution_count": 42,
   "id": "a659f8b5",
   "metadata": {},
   "outputs": [
    {
     "name": "stdout",
     "output_type": "stream",
     "text": [
      "['I have many story books', ' colouring books', ' I often read them in the afternoon.']\n"
     ]
    }
   ],
   "source": [
    "sentence19 = re.split (r'[;,]', 'I have many story books, colouring books; I often read them in the afternoon.')\n",
    "print (sentence19) \n",
    " \n",
    "# split the words based on the delimiters semi colon and comma \n"
   ]
  },
  {
   "cell_type": "code",
   "execution_count": 43,
   "id": "cf8e504b",
   "metadata": {},
   "outputs": [
    {
     "name": "stdout",
     "output_type": "stream",
     "text": [
      "['I', 'have', 'many', 'story', 'books', '', 'colouring', 'books', '', 'I', 'often', 'read', 'them', 'in', 'the', 'afternoon.']\n"
     ]
    }
   ],
   "source": [
    "sentence20 = re.split (r'[;,\\s]', 'I have many story books, colouring books; I often read them in the afternoon.')\n",
    "print (sentence20) \n",
    " \n",
    "# split the words based on the delimiters semi colon, comma and space \n"
   ]
  },
  {
   "cell_type": "markdown",
   "id": "4151f880",
   "metadata": {},
   "source": [
    "## Substituting delimiters"
   ]
  },
  {
   "cell_type": "code",
   "execution_count": 44,
   "id": "12d1aa9e",
   "metadata": {},
   "outputs": [
    {
     "name": "stdout",
     "output_type": "stream",
     "text": [
      "I have many story books. colouring books. I often read them in the afternoon.\n"
     ]
    }
   ],
   "source": [
    "sentence21 = re.sub (r'[;,]', '.', 'I have many story books, colouring books; I often read them in the afternoon.')\n",
    "print (sentence21) \n",
    " \n",
    "# Substitute the delimiters semi colon and comma with fullstop \n"
   ]
  },
  {
   "cell_type": "code",
   "execution_count": null,
   "id": "1a803347",
   "metadata": {},
   "outputs": [],
   "source": []
  }
 ],
 "metadata": {
  "kernelspec": {
   "display_name": "Python 3 (ipykernel)",
   "language": "python",
   "name": "python3"
  },
  "language_info": {
   "codemirror_mode": {
    "name": "ipython",
    "version": 3
   },
   "file_extension": ".py",
   "mimetype": "text/x-python",
   "name": "python",
   "nbconvert_exporter": "python",
   "pygments_lexer": "ipython3",
   "version": "3.11.5"
  }
 },
 "nbformat": 4,
 "nbformat_minor": 5
}

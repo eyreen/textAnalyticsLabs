{
  "nbformat": 4,
  "nbformat_minor": 0,
  "metadata": {
    "colab": {
      "provenance": []
    },
    "kernelspec": {
      "name": "python3",
      "display_name": "Python 3"
    },
    "language_info": {
      "name": "python"
    }
  },
  "cells": [
    {
      "cell_type": "code",
      "execution_count": 1,
      "metadata": {
        "id": "RBSHLnQIbgXr"
      },
      "outputs": [],
      "source": [
        "import pandas as pd"
      ]
    },
    {
      "cell_type": "code",
      "source": [
        "df = pd.read_csv('/content/Reviews.csv')"
      ],
      "metadata": {
        "id": "dvP_hIAlcESs"
      },
      "execution_count": 4,
      "outputs": []
    },
    {
      "cell_type": "code",
      "source": [
        "df"
      ],
      "metadata": {
        "colab": {
          "base_uri": "https://localhost:8080/",
          "height": 721
        },
        "id": "L5_cxDi0cLyc",
        "outputId": "711ec13a-8901-47ea-9dc3-b0129cca318e"
      },
      "execution_count": 5,
      "outputs": [
        {
          "output_type": "execute_result",
          "data": {
            "text/plain": [
              "            Id   ProductId          UserId                        ProfileName  \\\n",
              "0            1  B001E4KFG0  A3SGXH7AUHU8GW                         delmartian   \n",
              "1            2  B00813GRG4  A1D87F6ZCVE5NK                             dll pa   \n",
              "2            3  B000LQOCH0   ABXLMWJIXXAIN    Natalia Corres \"Natalia Corres\"   \n",
              "3            4  B000UA0QIQ  A395BORC6FGVXV                               Karl   \n",
              "4            5  B006K2ZZ7K  A1UQRSCLF8GW1T      Michael D. Bigham \"M. Wassir\"   \n",
              "...        ...         ...             ...                                ...   \n",
              "240749  240750  B000GPXRS6  A389I3A00Y235J  Claudia A. Doehrmann \"ma  kettle\"   \n",
              "240750  240751  B000GPXRS6  A3UBMZLFDHN98M                 Christe A. Harwood   \n",
              "240751  240752  B000GPXRS6  A3IKKYFJFSC3RO                          A. bukres   \n",
              "240752  240753  B000GPXRS6  A3MJARDJ31M698              S. Thompson \"Nothing\"   \n",
              "240753  240754         NaN             NaN                                NaN   \n",
              "\n",
              "        HelpfulnessNumerator  HelpfulnessDenominator  Score          Time  \\\n",
              "0                        1.0                     1.0    5.0  1.303862e+09   \n",
              "1                        0.0                     0.0    1.0  1.346976e+09   \n",
              "2                        1.0                     1.0    4.0  1.219018e+09   \n",
              "3                        3.0                     3.0    2.0  1.307923e+09   \n",
              "4                        0.0                     0.0    5.0  1.350778e+09   \n",
              "...                      ...                     ...    ...           ...   \n",
              "240749                   0.0                     0.0    5.0  1.237162e+09   \n",
              "240750                   0.0                     0.0    5.0  1.204070e+09   \n",
              "240751                   3.0                    10.0    1.0  1.281226e+09   \n",
              "240752                   3.0                    28.0    1.0  1.251245e+09   \n",
              "240753                   NaN                     NaN    NaN           NaN   \n",
              "\n",
              "                                   Summary  \\\n",
              "0                    Good Quality Dog Food   \n",
              "1                        Not as Advertised   \n",
              "2                    \"Delight\" says it all   \n",
              "3                           Cough Medicine   \n",
              "4                              Great taffy   \n",
              "...                                    ...   \n",
              "240749  Great  Chcolate  with  less  Carbs   \n",
              "240750                           Love Quik   \n",
              "240751                  It is toooo sweet!   \n",
              "240752              Expensive Raccoon Food   \n",
              "240753                                 NaN   \n",
              "\n",
              "                                                     Text  \n",
              "0       I have bought several of the Vitality canned d...  \n",
              "1       Product arrived labeled as Jumbo Salted Peanut...  \n",
              "2       This is a confection that has been around a fe...  \n",
              "3       If you are looking for the secret ingredient i...  \n",
              "4       Great taffy at a great price.  There was a wid...  \n",
              "...                                                   ...  \n",
              "240749  <a href=\"http://www.amazon.com/gp/product/B000...  \n",
              "240750  Have been drinking hot chocolate every morning...  \n",
              "240751  The reason I purchased this product is for the...  \n",
              "240752  The shipping was very slow and the raccoons ca...  \n",
              "240753                                                NaN  \n",
              "\n",
              "[240754 rows x 10 columns]"
            ],
            "text/html": [
              "\n",
              "  <div id=\"df-185dd5bd-177b-49b1-a949-39cdac20b47b\" class=\"colab-df-container\">\n",
              "    <div>\n",
              "<style scoped>\n",
              "    .dataframe tbody tr th:only-of-type {\n",
              "        vertical-align: middle;\n",
              "    }\n",
              "\n",
              "    .dataframe tbody tr th {\n",
              "        vertical-align: top;\n",
              "    }\n",
              "\n",
              "    .dataframe thead th {\n",
              "        text-align: right;\n",
              "    }\n",
              "</style>\n",
              "<table border=\"1\" class=\"dataframe\">\n",
              "  <thead>\n",
              "    <tr style=\"text-align: right;\">\n",
              "      <th></th>\n",
              "      <th>Id</th>\n",
              "      <th>ProductId</th>\n",
              "      <th>UserId</th>\n",
              "      <th>ProfileName</th>\n",
              "      <th>HelpfulnessNumerator</th>\n",
              "      <th>HelpfulnessDenominator</th>\n",
              "      <th>Score</th>\n",
              "      <th>Time</th>\n",
              "      <th>Summary</th>\n",
              "      <th>Text</th>\n",
              "    </tr>\n",
              "  </thead>\n",
              "  <tbody>\n",
              "    <tr>\n",
              "      <th>0</th>\n",
              "      <td>1</td>\n",
              "      <td>B001E4KFG0</td>\n",
              "      <td>A3SGXH7AUHU8GW</td>\n",
              "      <td>delmartian</td>\n",
              "      <td>1.0</td>\n",
              "      <td>1.0</td>\n",
              "      <td>5.0</td>\n",
              "      <td>1.303862e+09</td>\n",
              "      <td>Good Quality Dog Food</td>\n",
              "      <td>I have bought several of the Vitality canned d...</td>\n",
              "    </tr>\n",
              "    <tr>\n",
              "      <th>1</th>\n",
              "      <td>2</td>\n",
              "      <td>B00813GRG4</td>\n",
              "      <td>A1D87F6ZCVE5NK</td>\n",
              "      <td>dll pa</td>\n",
              "      <td>0.0</td>\n",
              "      <td>0.0</td>\n",
              "      <td>1.0</td>\n",
              "      <td>1.346976e+09</td>\n",
              "      <td>Not as Advertised</td>\n",
              "      <td>Product arrived labeled as Jumbo Salted Peanut...</td>\n",
              "    </tr>\n",
              "    <tr>\n",
              "      <th>2</th>\n",
              "      <td>3</td>\n",
              "      <td>B000LQOCH0</td>\n",
              "      <td>ABXLMWJIXXAIN</td>\n",
              "      <td>Natalia Corres \"Natalia Corres\"</td>\n",
              "      <td>1.0</td>\n",
              "      <td>1.0</td>\n",
              "      <td>4.0</td>\n",
              "      <td>1.219018e+09</td>\n",
              "      <td>\"Delight\" says it all</td>\n",
              "      <td>This is a confection that has been around a fe...</td>\n",
              "    </tr>\n",
              "    <tr>\n",
              "      <th>3</th>\n",
              "      <td>4</td>\n",
              "      <td>B000UA0QIQ</td>\n",
              "      <td>A395BORC6FGVXV</td>\n",
              "      <td>Karl</td>\n",
              "      <td>3.0</td>\n",
              "      <td>3.0</td>\n",
              "      <td>2.0</td>\n",
              "      <td>1.307923e+09</td>\n",
              "      <td>Cough Medicine</td>\n",
              "      <td>If you are looking for the secret ingredient i...</td>\n",
              "    </tr>\n",
              "    <tr>\n",
              "      <th>4</th>\n",
              "      <td>5</td>\n",
              "      <td>B006K2ZZ7K</td>\n",
              "      <td>A1UQRSCLF8GW1T</td>\n",
              "      <td>Michael D. Bigham \"M. Wassir\"</td>\n",
              "      <td>0.0</td>\n",
              "      <td>0.0</td>\n",
              "      <td>5.0</td>\n",
              "      <td>1.350778e+09</td>\n",
              "      <td>Great taffy</td>\n",
              "      <td>Great taffy at a great price.  There was a wid...</td>\n",
              "    </tr>\n",
              "    <tr>\n",
              "      <th>...</th>\n",
              "      <td>...</td>\n",
              "      <td>...</td>\n",
              "      <td>...</td>\n",
              "      <td>...</td>\n",
              "      <td>...</td>\n",
              "      <td>...</td>\n",
              "      <td>...</td>\n",
              "      <td>...</td>\n",
              "      <td>...</td>\n",
              "      <td>...</td>\n",
              "    </tr>\n",
              "    <tr>\n",
              "      <th>240749</th>\n",
              "      <td>240750</td>\n",
              "      <td>B000GPXRS6</td>\n",
              "      <td>A389I3A00Y235J</td>\n",
              "      <td>Claudia A. Doehrmann \"ma  kettle\"</td>\n",
              "      <td>0.0</td>\n",
              "      <td>0.0</td>\n",
              "      <td>5.0</td>\n",
              "      <td>1.237162e+09</td>\n",
              "      <td>Great  Chcolate  with  less  Carbs</td>\n",
              "      <td>&lt;a href=\"http://www.amazon.com/gp/product/B000...</td>\n",
              "    </tr>\n",
              "    <tr>\n",
              "      <th>240750</th>\n",
              "      <td>240751</td>\n",
              "      <td>B000GPXRS6</td>\n",
              "      <td>A3UBMZLFDHN98M</td>\n",
              "      <td>Christe A. Harwood</td>\n",
              "      <td>0.0</td>\n",
              "      <td>0.0</td>\n",
              "      <td>5.0</td>\n",
              "      <td>1.204070e+09</td>\n",
              "      <td>Love Quik</td>\n",
              "      <td>Have been drinking hot chocolate every morning...</td>\n",
              "    </tr>\n",
              "    <tr>\n",
              "      <th>240751</th>\n",
              "      <td>240752</td>\n",
              "      <td>B000GPXRS6</td>\n",
              "      <td>A3IKKYFJFSC3RO</td>\n",
              "      <td>A. bukres</td>\n",
              "      <td>3.0</td>\n",
              "      <td>10.0</td>\n",
              "      <td>1.0</td>\n",
              "      <td>1.281226e+09</td>\n",
              "      <td>It is toooo sweet!</td>\n",
              "      <td>The reason I purchased this product is for the...</td>\n",
              "    </tr>\n",
              "    <tr>\n",
              "      <th>240752</th>\n",
              "      <td>240753</td>\n",
              "      <td>B000GPXRS6</td>\n",
              "      <td>A3MJARDJ31M698</td>\n",
              "      <td>S. Thompson \"Nothing\"</td>\n",
              "      <td>3.0</td>\n",
              "      <td>28.0</td>\n",
              "      <td>1.0</td>\n",
              "      <td>1.251245e+09</td>\n",
              "      <td>Expensive Raccoon Food</td>\n",
              "      <td>The shipping was very slow and the raccoons ca...</td>\n",
              "    </tr>\n",
              "    <tr>\n",
              "      <th>240753</th>\n",
              "      <td>240754</td>\n",
              "      <td>NaN</td>\n",
              "      <td>NaN</td>\n",
              "      <td>NaN</td>\n",
              "      <td>NaN</td>\n",
              "      <td>NaN</td>\n",
              "      <td>NaN</td>\n",
              "      <td>NaN</td>\n",
              "      <td>NaN</td>\n",
              "      <td>NaN</td>\n",
              "    </tr>\n",
              "  </tbody>\n",
              "</table>\n",
              "<p>240754 rows × 10 columns</p>\n",
              "</div>\n",
              "    <div class=\"colab-df-buttons\">\n",
              "\n",
              "  <div class=\"colab-df-container\">\n",
              "    <button class=\"colab-df-convert\" onclick=\"convertToInteractive('df-185dd5bd-177b-49b1-a949-39cdac20b47b')\"\n",
              "            title=\"Convert this dataframe to an interactive table.\"\n",
              "            style=\"display:none;\">\n",
              "\n",
              "  <svg xmlns=\"http://www.w3.org/2000/svg\" height=\"24px\" viewBox=\"0 -960 960 960\">\n",
              "    <path d=\"M120-120v-720h720v720H120Zm60-500h600v-160H180v160Zm220 220h160v-160H400v160Zm0 220h160v-160H400v160ZM180-400h160v-160H180v160Zm440 0h160v-160H620v160ZM180-180h160v-160H180v160Zm440 0h160v-160H620v160Z\"/>\n",
              "  </svg>\n",
              "    </button>\n",
              "\n",
              "  <style>\n",
              "    .colab-df-container {\n",
              "      display:flex;\n",
              "      gap: 12px;\n",
              "    }\n",
              "\n",
              "    .colab-df-convert {\n",
              "      background-color: #E8F0FE;\n",
              "      border: none;\n",
              "      border-radius: 50%;\n",
              "      cursor: pointer;\n",
              "      display: none;\n",
              "      fill: #1967D2;\n",
              "      height: 32px;\n",
              "      padding: 0 0 0 0;\n",
              "      width: 32px;\n",
              "    }\n",
              "\n",
              "    .colab-df-convert:hover {\n",
              "      background-color: #E2EBFA;\n",
              "      box-shadow: 0px 1px 2px rgba(60, 64, 67, 0.3), 0px 1px 3px 1px rgba(60, 64, 67, 0.15);\n",
              "      fill: #174EA6;\n",
              "    }\n",
              "\n",
              "    .colab-df-buttons div {\n",
              "      margin-bottom: 4px;\n",
              "    }\n",
              "\n",
              "    [theme=dark] .colab-df-convert {\n",
              "      background-color: #3B4455;\n",
              "      fill: #D2E3FC;\n",
              "    }\n",
              "\n",
              "    [theme=dark] .colab-df-convert:hover {\n",
              "      background-color: #434B5C;\n",
              "      box-shadow: 0px 1px 3px 1px rgba(0, 0, 0, 0.15);\n",
              "      filter: drop-shadow(0px 1px 2px rgba(0, 0, 0, 0.3));\n",
              "      fill: #FFFFFF;\n",
              "    }\n",
              "  </style>\n",
              "\n",
              "    <script>\n",
              "      const buttonEl =\n",
              "        document.querySelector('#df-185dd5bd-177b-49b1-a949-39cdac20b47b button.colab-df-convert');\n",
              "      buttonEl.style.display =\n",
              "        google.colab.kernel.accessAllowed ? 'block' : 'none';\n",
              "\n",
              "      async function convertToInteractive(key) {\n",
              "        const element = document.querySelector('#df-185dd5bd-177b-49b1-a949-39cdac20b47b');\n",
              "        const dataTable =\n",
              "          await google.colab.kernel.invokeFunction('convertToInteractive',\n",
              "                                                    [key], {});\n",
              "        if (!dataTable) return;\n",
              "\n",
              "        const docLinkHtml = 'Like what you see? Visit the ' +\n",
              "          '<a target=\"_blank\" href=https://colab.research.google.com/notebooks/data_table.ipynb>data table notebook</a>'\n",
              "          + ' to learn more about interactive tables.';\n",
              "        element.innerHTML = '';\n",
              "        dataTable['output_type'] = 'display_data';\n",
              "        await google.colab.output.renderOutput(dataTable, element);\n",
              "        const docLink = document.createElement('div');\n",
              "        docLink.innerHTML = docLinkHtml;\n",
              "        element.appendChild(docLink);\n",
              "      }\n",
              "    </script>\n",
              "  </div>\n",
              "\n",
              "\n",
              "<div id=\"df-fda018dc-4866-4040-a437-cb90f375a307\">\n",
              "  <button class=\"colab-df-quickchart\" onclick=\"quickchart('df-fda018dc-4866-4040-a437-cb90f375a307')\"\n",
              "            title=\"Suggest charts\"\n",
              "            style=\"display:none;\">\n",
              "\n",
              "<svg xmlns=\"http://www.w3.org/2000/svg\" height=\"24px\"viewBox=\"0 0 24 24\"\n",
              "     width=\"24px\">\n",
              "    <g>\n",
              "        <path d=\"M19 3H5c-1.1 0-2 .9-2 2v14c0 1.1.9 2 2 2h14c1.1 0 2-.9 2-2V5c0-1.1-.9-2-2-2zM9 17H7v-7h2v7zm4 0h-2V7h2v10zm4 0h-2v-4h2v4z\"/>\n",
              "    </g>\n",
              "</svg>\n",
              "  </button>\n",
              "\n",
              "<style>\n",
              "  .colab-df-quickchart {\n",
              "      --bg-color: #E8F0FE;\n",
              "      --fill-color: #1967D2;\n",
              "      --hover-bg-color: #E2EBFA;\n",
              "      --hover-fill-color: #174EA6;\n",
              "      --disabled-fill-color: #AAA;\n",
              "      --disabled-bg-color: #DDD;\n",
              "  }\n",
              "\n",
              "  [theme=dark] .colab-df-quickchart {\n",
              "      --bg-color: #3B4455;\n",
              "      --fill-color: #D2E3FC;\n",
              "      --hover-bg-color: #434B5C;\n",
              "      --hover-fill-color: #FFFFFF;\n",
              "      --disabled-bg-color: #3B4455;\n",
              "      --disabled-fill-color: #666;\n",
              "  }\n",
              "\n",
              "  .colab-df-quickchart {\n",
              "    background-color: var(--bg-color);\n",
              "    border: none;\n",
              "    border-radius: 50%;\n",
              "    cursor: pointer;\n",
              "    display: none;\n",
              "    fill: var(--fill-color);\n",
              "    height: 32px;\n",
              "    padding: 0;\n",
              "    width: 32px;\n",
              "  }\n",
              "\n",
              "  .colab-df-quickchart:hover {\n",
              "    background-color: var(--hover-bg-color);\n",
              "    box-shadow: 0 1px 2px rgba(60, 64, 67, 0.3), 0 1px 3px 1px rgba(60, 64, 67, 0.15);\n",
              "    fill: var(--button-hover-fill-color);\n",
              "  }\n",
              "\n",
              "  .colab-df-quickchart-complete:disabled,\n",
              "  .colab-df-quickchart-complete:disabled:hover {\n",
              "    background-color: var(--disabled-bg-color);\n",
              "    fill: var(--disabled-fill-color);\n",
              "    box-shadow: none;\n",
              "  }\n",
              "\n",
              "  .colab-df-spinner {\n",
              "    border: 2px solid var(--fill-color);\n",
              "    border-color: transparent;\n",
              "    border-bottom-color: var(--fill-color);\n",
              "    animation:\n",
              "      spin 1s steps(1) infinite;\n",
              "  }\n",
              "\n",
              "  @keyframes spin {\n",
              "    0% {\n",
              "      border-color: transparent;\n",
              "      border-bottom-color: var(--fill-color);\n",
              "      border-left-color: var(--fill-color);\n",
              "    }\n",
              "    20% {\n",
              "      border-color: transparent;\n",
              "      border-left-color: var(--fill-color);\n",
              "      border-top-color: var(--fill-color);\n",
              "    }\n",
              "    30% {\n",
              "      border-color: transparent;\n",
              "      border-left-color: var(--fill-color);\n",
              "      border-top-color: var(--fill-color);\n",
              "      border-right-color: var(--fill-color);\n",
              "    }\n",
              "    40% {\n",
              "      border-color: transparent;\n",
              "      border-right-color: var(--fill-color);\n",
              "      border-top-color: var(--fill-color);\n",
              "    }\n",
              "    60% {\n",
              "      border-color: transparent;\n",
              "      border-right-color: var(--fill-color);\n",
              "    }\n",
              "    80% {\n",
              "      border-color: transparent;\n",
              "      border-right-color: var(--fill-color);\n",
              "      border-bottom-color: var(--fill-color);\n",
              "    }\n",
              "    90% {\n",
              "      border-color: transparent;\n",
              "      border-bottom-color: var(--fill-color);\n",
              "    }\n",
              "  }\n",
              "</style>\n",
              "\n",
              "  <script>\n",
              "    async function quickchart(key) {\n",
              "      const quickchartButtonEl =\n",
              "        document.querySelector('#' + key + ' button');\n",
              "      quickchartButtonEl.disabled = true;  // To prevent multiple clicks.\n",
              "      quickchartButtonEl.classList.add('colab-df-spinner');\n",
              "      try {\n",
              "        const charts = await google.colab.kernel.invokeFunction(\n",
              "            'suggestCharts', [key], {});\n",
              "      } catch (error) {\n",
              "        console.error('Error during call to suggestCharts:', error);\n",
              "      }\n",
              "      quickchartButtonEl.classList.remove('colab-df-spinner');\n",
              "      quickchartButtonEl.classList.add('colab-df-quickchart-complete');\n",
              "    }\n",
              "    (() => {\n",
              "      let quickchartButtonEl =\n",
              "        document.querySelector('#df-fda018dc-4866-4040-a437-cb90f375a307 button');\n",
              "      quickchartButtonEl.style.display =\n",
              "        google.colab.kernel.accessAllowed ? 'block' : 'none';\n",
              "    })();\n",
              "  </script>\n",
              "</div>\n",
              "\n",
              "  <div id=\"id_fd28fd7b-8722-46c4-adce-21014f368451\">\n",
              "    <style>\n",
              "      .colab-df-generate {\n",
              "        background-color: #E8F0FE;\n",
              "        border: none;\n",
              "        border-radius: 50%;\n",
              "        cursor: pointer;\n",
              "        display: none;\n",
              "        fill: #1967D2;\n",
              "        height: 32px;\n",
              "        padding: 0 0 0 0;\n",
              "        width: 32px;\n",
              "      }\n",
              "\n",
              "      .colab-df-generate:hover {\n",
              "        background-color: #E2EBFA;\n",
              "        box-shadow: 0px 1px 2px rgba(60, 64, 67, 0.3), 0px 1px 3px 1px rgba(60, 64, 67, 0.15);\n",
              "        fill: #174EA6;\n",
              "      }\n",
              "\n",
              "      [theme=dark] .colab-df-generate {\n",
              "        background-color: #3B4455;\n",
              "        fill: #D2E3FC;\n",
              "      }\n",
              "\n",
              "      [theme=dark] .colab-df-generate:hover {\n",
              "        background-color: #434B5C;\n",
              "        box-shadow: 0px 1px 3px 1px rgba(0, 0, 0, 0.15);\n",
              "        filter: drop-shadow(0px 1px 2px rgba(0, 0, 0, 0.3));\n",
              "        fill: #FFFFFF;\n",
              "      }\n",
              "    </style>\n",
              "    <button class=\"colab-df-generate\" onclick=\"generateWithVariable('df')\"\n",
              "            title=\"Generate code using this dataframe.\"\n",
              "            style=\"display:none;\">\n",
              "\n",
              "  <svg xmlns=\"http://www.w3.org/2000/svg\" height=\"24px\"viewBox=\"0 0 24 24\"\n",
              "       width=\"24px\">\n",
              "    <path d=\"M7,19H8.4L18.45,9,17,7.55,7,17.6ZM5,21V16.75L18.45,3.32a2,2,0,0,1,2.83,0l1.4,1.43a1.91,1.91,0,0,1,.58,1.4,1.91,1.91,0,0,1-.58,1.4L9.25,21ZM18.45,9,17,7.55Zm-12,3A5.31,5.31,0,0,0,4.9,8.1,5.31,5.31,0,0,0,1,6.5,5.31,5.31,0,0,0,4.9,4.9,5.31,5.31,0,0,0,6.5,1,5.31,5.31,0,0,0,8.1,4.9,5.31,5.31,0,0,0,12,6.5,5.46,5.46,0,0,0,6.5,12Z\"/>\n",
              "  </svg>\n",
              "    </button>\n",
              "    <script>\n",
              "      (() => {\n",
              "      const buttonEl =\n",
              "        document.querySelector('#id_fd28fd7b-8722-46c4-adce-21014f368451 button.colab-df-generate');\n",
              "      buttonEl.style.display =\n",
              "        google.colab.kernel.accessAllowed ? 'block' : 'none';\n",
              "\n",
              "      buttonEl.onclick = () => {\n",
              "        google.colab.notebook.generateWithVariable('df');\n",
              "      }\n",
              "      })();\n",
              "    </script>\n",
              "  </div>\n",
              "\n",
              "    </div>\n",
              "  </div>\n"
            ],
            "application/vnd.google.colaboratory.intrinsic+json": {
              "type": "dataframe",
              "variable_name": "df"
            }
          },
          "metadata": {},
          "execution_count": 5
        }
      ]
    },
    {
      "cell_type": "code",
      "source": [
        "print(\"Number of columns:\", df.shape[1])\n",
        "print(\"Number of rows:\", df.shape[0])"
      ],
      "metadata": {
        "colab": {
          "base_uri": "https://localhost:8080/"
        },
        "id": "V0P_MBy3cS-a",
        "outputId": "51d8925b-aeca-4c82-e63e-f8d0bb469ffb"
      },
      "execution_count": 7,
      "outputs": [
        {
          "output_type": "stream",
          "name": "stdout",
          "text": [
            "Number of columns: 10\n",
            "Number of rows: 240754\n"
          ]
        }
      ]
    },
    {
      "cell_type": "code",
      "source": [
        "df.columns"
      ],
      "metadata": {
        "colab": {
          "base_uri": "https://localhost:8080/"
        },
        "id": "kYq4aM2Kciz-",
        "outputId": "90836507-b935-4b05-d0b0-41870466519f"
      },
      "execution_count": 6,
      "outputs": [
        {
          "output_type": "execute_result",
          "data": {
            "text/plain": [
              "Index(['Id', 'ProductId', 'UserId', 'ProfileName', 'HelpfulnessNumerator',\n",
              "       'HelpfulnessDenominator', 'Score', 'Time', 'Summary', 'Text'],\n",
              "      dtype='object')"
            ]
          },
          "metadata": {},
          "execution_count": 6
        }
      ]
    },
    {
      "cell_type": "code",
      "source": [
        "# only remain the Text column\n",
        "df = df['Text']"
      ],
      "metadata": {
        "id": "OrpWqQX5czVA"
      },
      "execution_count": 8,
      "outputs": []
    },
    {
      "cell_type": "code",
      "source": [
        "df.head()"
      ],
      "metadata": {
        "colab": {
          "base_uri": "https://localhost:8080/"
        },
        "id": "ITxlup6PdBki",
        "outputId": "d1d64b82-db92-469a-aac8-543efe47a430"
      },
      "execution_count": 9,
      "outputs": [
        {
          "output_type": "execute_result",
          "data": {
            "text/plain": [
              "0    I have bought several of the Vitality canned d...\n",
              "1    Product arrived labeled as Jumbo Salted Peanut...\n",
              "2    This is a confection that has been around a fe...\n",
              "3    If you are looking for the secret ingredient i...\n",
              "4    Great taffy at a great price.  There was a wid...\n",
              "Name: Text, dtype: object"
            ]
          },
          "metadata": {},
          "execution_count": 9
        }
      ]
    },
    {
      "cell_type": "code",
      "source": [
        "# Check for duplicates\n",
        "df.duplicated().sum()"
      ],
      "metadata": {
        "colab": {
          "base_uri": "https://localhost:8080/"
        },
        "id": "Ct86ALV0dC1n",
        "outputId": "763b2aaf-6044-486e-d900-155d0aa8fae0"
      },
      "execution_count": 10,
      "outputs": [
        {
          "output_type": "execute_result",
          "data": {
            "text/plain": [
              "49852"
            ]
          },
          "metadata": {},
          "execution_count": 10
        }
      ]
    },
    {
      "cell_type": "code",
      "source": [
        "# Remove duplicates\n",
        "df = df.drop_duplicates()"
      ],
      "metadata": {
        "id": "iX9eQfXXdPbp"
      },
      "execution_count": 11,
      "outputs": []
    },
    {
      "cell_type": "code",
      "source": [
        "# num of row after removed duplicates\n",
        "df.shape[0]"
      ],
      "metadata": {
        "colab": {
          "base_uri": "https://localhost:8080/"
        },
        "id": "NyM8T8_2dR5I",
        "outputId": "5976ba85-b23e-4068-b85e-41da6b5e0455"
      },
      "execution_count": 12,
      "outputs": [
        {
          "output_type": "execute_result",
          "data": {
            "text/plain": [
              "190902"
            ]
          },
          "metadata": {},
          "execution_count": 12
        }
      ]
    },
    {
      "cell_type": "markdown",
      "source": [
        "## 2. Remove punctuation and special characters"
      ],
      "metadata": {
        "id": "-O0tSV3Ud4Gy"
      }
    },
    {
      "cell_type": "code",
      "source": [
        "import string\n",
        "import re"
      ],
      "metadata": {
        "id": "OM5GZOiIdXa8"
      },
      "execution_count": 13,
      "outputs": []
    },
    {
      "cell_type": "code",
      "source": [
        "string.punctuation"
      ],
      "metadata": {
        "colab": {
          "base_uri": "https://localhost:8080/",
          "height": 35
        },
        "id": "AGIeSjgXd2zK",
        "outputId": "5a9046dd-0d68-46df-da0f-01ed93749047"
      },
      "execution_count": 14,
      "outputs": [
        {
          "output_type": "execute_result",
          "data": {
            "text/plain": [
              "'!\"#$%&\\'()*+,-./:;<=>?@[\\\\]^_`{|}~'"
            ],
            "application/vnd.google.colaboratory.intrinsic+json": {
              "type": "string"
            }
          },
          "metadata": {},
          "execution_count": 14
        }
      ]
    },
    {
      "cell_type": "code",
      "source": [
        "# Define the function to remove punctuation from a string\n",
        "def remove_punctuation(text):\n",
        "    # Check if the input is a string\n",
        "    if isinstance(text, str):\n",
        "        # Remove punctuation using regular expression\n",
        "        text = re.sub(r'[^\\w\\s]', '', text)\n",
        "        return text\n",
        "    else:\n",
        "        # Return the input as is if it's not a string\n",
        "        return text\n",
        "\n",
        "# Apply the function to the 'Body_text' column and store the result in a new column\n",
        "df['clean_punctuation'] = df.apply(remove_punctuation)"
      ],
      "metadata": {
        "id": "KL-21GRHgJFY"
      },
      "execution_count": 21,
      "outputs": []
    },
    {
      "cell_type": "code",
      "source": [
        "df['clean_punctuation']"
      ],
      "metadata": {
        "colab": {
          "base_uri": "https://localhost:8080/"
        },
        "id": "vvUMhr88hHkJ",
        "outputId": "786be356-2062-48a2-bd40-9c9a80dbcbc0"
      },
      "execution_count": 23,
      "outputs": [
        {
          "output_type": "execute_result",
          "data": {
            "text/plain": [
              "0         I have bought several of the Vitality canned d...\n",
              "1         Product arrived labeled as Jumbo Salted Peanut...\n",
              "2         This is a confection that has been around a fe...\n",
              "3         If you are looking for the secret ingredient i...\n",
              "4         Great taffy at a great price  There was a wide...\n",
              "                                ...                        \n",
              "240727    My son loves mummums and I like the fact that ...\n",
              "240731    My dog loves these Shes 11 years old and had t...\n",
              "240732    Love Indian cuisine cant get it in the middle ...\n",
              "240733    Wow This variety pack is a little expensive on...\n",
              "240753                                                  NaN\n",
              "Name: Text, Length: 190902, dtype: object"
            ]
          },
          "metadata": {},
          "execution_count": 23
        }
      ]
    },
    {
      "cell_type": "code",
      "source": [
        "# Define a function to remove special characters from a string\n",
        "def remove_special_chars(text):\n",
        "    # Check if the input is a string\n",
        "    if isinstance(text, str):\n",
        "        # Remove special characters using regular expression\n",
        "        text = re.sub(r'\\W', ' ', text)\n",
        "        return text\n",
        "    else:\n",
        "        # Return the input as is if it's not a string\n",
        "        return text\n",
        "\n",
        "# Apply the function to the 'clean_punctuation' column and store the result in a new column\n",
        "df['clean_special_chars'] = df['clean_punctuation'].apply(remove_special_chars)"
      ],
      "metadata": {
        "id": "YA-IFRVShJnl"
      },
      "execution_count": 24,
      "outputs": []
    },
    {
      "cell_type": "code",
      "source": [
        "pd.set_option('display.max_colwidth', -1)\n",
        "print(df['clean_special_chars'])"
      ],
      "metadata": {
        "colab": {
          "base_uri": "https://localhost:8080/"
        },
        "id": "esfgzidUhuZL",
        "outputId": "0a925081-0a67-42d5-f069-1db4b1e3c7db"
      },
      "execution_count": 26,
      "outputs": [
        {
          "output_type": "stream",
          "name": "stdout",
          "text": [
            "0         I have bought several of the Vitality canned dog food products and have found them all to be of good quality The product looks more like a stew than a processed meat and it smells better My Labrador is finicky and she appreciates this product better than  most                                                                                                                                                                                                                                                                                       \n",
            "1         Product arrived labeled as Jumbo Salted Peanutsthe peanuts were actually small sized unsalted Not sure if this was an error or if the vendor intended to represent the product as Jumbo                                                                                                                                                                                                                                                                                                                                                                    \n",
            "2         This is a confection that has been around a few centuries  It is a light pillowy citrus gelatin with nuts  in this case Filberts And it is cut into tiny squares and then liberally coated with powdered sugar  And it is a tiny mouthful of heaven  Not too chewy and very flavorful  I highly recommend this yummy treat  If you are familiar with the story of CS Lewis The Lion The Witch and The Wardrobe  this is the treat that seduces Edmund into selling out his Brother and Sisters to the Witch                                                \n",
            "3         If you are looking for the secret ingredient in Robitussin I believe I have found it  I got this in addition to the Root Beer Extract I ordered which was good and made some cherry soda  The flavor is very medicinal                                                                                                                                                                                                                                                                                                                                     \n",
            "4         Great taffy at a great price  There was a wide assortment of yummy taffy  Delivery was very quick  If your a taffy lover this is a deal                                                                                                                                                                                                                                                                                                                                                                                                                    \n",
            "                                                                           ...                                                                                                                                                                                                                                                                                                                                                                                                                                                                                       \n",
            "240727    My son loves mummums and I like the fact that they are not messy like the gerber biter biscuts                                                                                                                                                                                                                                                                                                                                                                                                                                                             \n",
            "240731    My dog loves these Shes 11 years old and had to have 2 back teeth remove so she has trouble chewing bones but these she can chew and eat with no trouble                                                                                                                                                                                                                                                                                                                                                                                                   \n",
            "240732    Love Indian cuisine cant get it in the middle of Texas This is a very good substitute We are eating totally healthy lots of veggies and lots of wholegrain rices This fits perfectly all natural no preservatives lots of flavor good for you Easy to prepare hey make your own brown rice there are several varieties on the Internetlook up ROSE rice my my This whole line is made and packaged in India served in their country and in the UK and family in NYC eat it all the time when they cant get down to 6th Street  Not homemade but close to it\n",
            "240733    Wow This variety pack is a little expensive on here I paid under twenty dollars for it at my local Walmart which makes it around nine cents per mini bar Im going to give these out to the trickortreaters this year                                                                                                                                                                                                                                                                                                                                       \n",
            "240753    NaN                                                                                                                                                                                                                                                                                                                                                                                                                                                                                                                                                        \n",
            "Name: Text, Length: 190902, dtype: object\n"
          ]
        },
        {
          "output_type": "stream",
          "name": "stderr",
          "text": [
            "<ipython-input-26-560b3a03618e>:1: FutureWarning: Passing a negative integer is deprecated in version 1.0 and will not be supported in future version. Instead, use None to not limit the column width.\n",
            "  pd.set_option('display.max_colwidth', -1)\n"
          ]
        }
      ]
    },
    {
      "cell_type": "code",
      "source": [],
      "metadata": {
        "id": "uMuQc9bFh225"
      },
      "execution_count": null,
      "outputs": []
    },
    {
      "cell_type": "markdown",
      "source": [
        "## 3. Remove digits"
      ],
      "metadata": {
        "id": "cdwltB7MiRUr"
      }
    },
    {
      "cell_type": "code",
      "source": [
        "# Define a function to remove digits from a string\n",
        "def remove_digits(text):\n",
        "    # Check if the input is a string\n",
        "    if isinstance(text, str):\n",
        "        # Remove digits using regular expression\n",
        "        text = re.sub(r'\\d', '', text)\n",
        "        return text\n",
        "    else:\n",
        "        # Return the input as is if it's not a string\n",
        "        return text\n",
        "\n",
        "# Apply the function to the 'clean_special_chars' column and store the result in a new column\n",
        "df['clean_digits'] = df['clean_special_chars'].apply(remove_digits)"
      ],
      "metadata": {
        "id": "Ft83HQ3BiTqD"
      },
      "execution_count": 27,
      "outputs": []
    },
    {
      "cell_type": "code",
      "source": [
        "print(df['clean_digits'])"
      ],
      "metadata": {
        "colab": {
          "base_uri": "https://localhost:8080/"
        },
        "id": "8bxKKmVyikk7",
        "outputId": "be3795f9-0249-4463-d4cc-fd34c0285980"
      },
      "execution_count": 28,
      "outputs": [
        {
          "output_type": "stream",
          "name": "stdout",
          "text": [
            "0         I have bought several of the Vitality canned dog food products and have found them all to be of good quality The product looks more like a stew than a processed meat and it smells better My Labrador is finicky and she appreciates this product better than  most                                                                                                                                                                                                                                                                                      \n",
            "1         Product arrived labeled as Jumbo Salted Peanutsthe peanuts were actually small sized unsalted Not sure if this was an error or if the vendor intended to represent the product as Jumbo                                                                                                                                                                                                                                                                                                                                                                   \n",
            "2         This is a confection that has been around a few centuries  It is a light pillowy citrus gelatin with nuts  in this case Filberts And it is cut into tiny squares and then liberally coated with powdered sugar  And it is a tiny mouthful of heaven  Not too chewy and very flavorful  I highly recommend this yummy treat  If you are familiar with the story of CS Lewis The Lion The Witch and The Wardrobe  this is the treat that seduces Edmund into selling out his Brother and Sisters to the Witch                                               \n",
            "3         If you are looking for the secret ingredient in Robitussin I believe I have found it  I got this in addition to the Root Beer Extract I ordered which was good and made some cherry soda  The flavor is very medicinal                                                                                                                                                                                                                                                                                                                                    \n",
            "4         Great taffy at a great price  There was a wide assortment of yummy taffy  Delivery was very quick  If your a taffy lover this is a deal                                                                                                                                                                                                                                                                                                                                                                                                                   \n",
            "                                                                           ...                                                                                                                                                                                                                                                                                                                                                                                                                                                                                      \n",
            "240727    My son loves mummums and I like the fact that they are not messy like the gerber biter biscuts                                                                                                                                                                                                                                                                                                                                                                                                                                                            \n",
            "240731    My dog loves these Shes  years old and had to have  back teeth remove so she has trouble chewing bones but these she can chew and eat with no trouble                                                                                                                                                                                                                                                                                                                                                                                                     \n",
            "240732    Love Indian cuisine cant get it in the middle of Texas This is a very good substitute We are eating totally healthy lots of veggies and lots of wholegrain rices This fits perfectly all natural no preservatives lots of flavor good for you Easy to prepare hey make your own brown rice there are several varieties on the Internetlook up ROSE rice my my This whole line is made and packaged in India served in their country and in the UK and family in NYC eat it all the time when they cant get down to th Street  Not homemade but close to it\n",
            "240733    Wow This variety pack is a little expensive on here I paid under twenty dollars for it at my local Walmart which makes it around nine cents per mini bar Im going to give these out to the trickortreaters this year                                                                                                                                                                                                                                                                                                                                      \n",
            "240753    NaN                                                                                                                                                                                                                                                                                                                                                                                                                                                                                                                                                       \n",
            "Name: Text, Length: 190902, dtype: object\n"
          ]
        }
      ]
    },
    {
      "cell_type": "markdown",
      "source": [
        "## 4. Convert to lowercases"
      ],
      "metadata": {
        "id": "y-uvuyKUiqIK"
      }
    },
    {
      "cell_type": "code",
      "source": [
        "df['clean_lower_cases'] = df['clean_digits'].str.lower()"
      ],
      "metadata": {
        "id": "s6LSU7zwisYx"
      },
      "execution_count": 29,
      "outputs": []
    },
    {
      "cell_type": "code",
      "source": [
        "print(df['clean_lower_cases'])"
      ],
      "metadata": {
        "colab": {
          "base_uri": "https://localhost:8080/"
        },
        "id": "o0-OZ9Adi6cR",
        "outputId": "e2c223bc-27ae-4bb0-b5de-a85c3552ac64"
      },
      "execution_count": 31,
      "outputs": [
        {
          "output_type": "stream",
          "name": "stdout",
          "text": [
            "0         i have bought several of the vitality canned dog food products and have found them all to be of good quality the product looks more like a stew than a processed meat and it smells better my labrador is finicky and she appreciates this product better than  most                                                                                                                                                                                                                                                                                      \n",
            "1         product arrived labeled as jumbo salted peanutsthe peanuts were actually small sized unsalted not sure if this was an error or if the vendor intended to represent the product as jumbo                                                                                                                                                                                                                                                                                                                                                                   \n",
            "2         this is a confection that has been around a few centuries  it is a light pillowy citrus gelatin with nuts  in this case filberts and it is cut into tiny squares and then liberally coated with powdered sugar  and it is a tiny mouthful of heaven  not too chewy and very flavorful  i highly recommend this yummy treat  if you are familiar with the story of cs lewis the lion the witch and the wardrobe  this is the treat that seduces edmund into selling out his brother and sisters to the witch                                               \n",
            "3         if you are looking for the secret ingredient in robitussin i believe i have found it  i got this in addition to the root beer extract i ordered which was good and made some cherry soda  the flavor is very medicinal                                                                                                                                                                                                                                                                                                                                    \n",
            "4         great taffy at a great price  there was a wide assortment of yummy taffy  delivery was very quick  if your a taffy lover this is a deal                                                                                                                                                                                                                                                                                                                                                                                                                   \n",
            "                                                                           ...                                                                                                                                                                                                                                                                                                                                                                                                                                                                                      \n",
            "240727    my son loves mummums and i like the fact that they are not messy like the gerber biter biscuts                                                                                                                                                                                                                                                                                                                                                                                                                                                            \n",
            "240731    my dog loves these shes  years old and had to have  back teeth remove so she has trouble chewing bones but these she can chew and eat with no trouble                                                                                                                                                                                                                                                                                                                                                                                                     \n",
            "240732    love indian cuisine cant get it in the middle of texas this is a very good substitute we are eating totally healthy lots of veggies and lots of wholegrain rices this fits perfectly all natural no preservatives lots of flavor good for you easy to prepare hey make your own brown rice there are several varieties on the internetlook up rose rice my my this whole line is made and packaged in india served in their country and in the uk and family in nyc eat it all the time when they cant get down to th street  not homemade but close to it\n",
            "240733    wow this variety pack is a little expensive on here i paid under twenty dollars for it at my local walmart which makes it around nine cents per mini bar im going to give these out to the trickortreaters this year                                                                                                                                                                                                                                                                                                                                      \n",
            "240753    NaN                                                                                                                                                                                                                                                                                                                                                                                                                                                                                                                                                       \n",
            "Name: Text, Length: 190902, dtype: object\n"
          ]
        }
      ]
    },
    {
      "cell_type": "markdown",
      "source": [
        "## 5. Remove stop words"
      ],
      "metadata": {
        "id": "p44U9SMzjJa2"
      }
    },
    {
      "cell_type": "code",
      "source": [
        "import nltk\n",
        "nltk.download('stopwords')\n",
        "from nltk.corpus import stopwords\n",
        "from nltk.tokenize import word_tokenize\n",
        "\n",
        "# Get the stop words from the NLTK library\n",
        "stop_words = set(stopwords.words('english'))\n",
        "\n",
        "# Define a function to remove stop words from a string\n",
        "def remove_stop_words(text):\n",
        "    # Check if the input is a string\n",
        "    if isinstance(text, str):\n",
        "        # Tokenize the text into words\n",
        "        words = word_tokenize(text)\n",
        "        # Remove stop words from the list of words\n",
        "        filtered_words = [word for word in words if word not in stop_words]\n",
        "        # Join the filtered words back into a string\n",
        "        return ' '.join(filtered_words)\n",
        "    else:\n",
        "        # Return the input as is if it's not a string\n",
        "        return text\n",
        "\n",
        "# Apply the function to the 'clean_lower_cases' column and store the result in a new column\n",
        "df['clean_stop_words'] = df['clean_lower_cases'].apply(remove_stop_words)"
      ],
      "metadata": {
        "colab": {
          "base_uri": "https://localhost:8080/"
        },
        "id": "JDC1YbC-jgj2",
        "outputId": "e00af474-8ea6-45df-b111-21b8b0cd320a"
      },
      "execution_count": 34,
      "outputs": [
        {
          "output_type": "stream",
          "name": "stderr",
          "text": [
            "[nltk_data] Downloading package stopwords to /root/nltk_data...\n",
            "[nltk_data]   Unzipping corpora/stopwords.zip.\n"
          ]
        }
      ]
    },
    {
      "cell_type": "code",
      "source": [
        "#Get the list of English stop words present in the library\n",
        "stopwords = nltk.corpus.stopwords.words('english')\n",
        "\n",
        "# Print the list of stopwords\n",
        "print(stopwords)"
      ],
      "metadata": {
        "colab": {
          "base_uri": "https://localhost:8080/"
        },
        "id": "QBl9eLe9lk6M",
        "outputId": "b36ad21f-694f-4eee-f992-b31e8f901355"
      },
      "execution_count": 36,
      "outputs": [
        {
          "output_type": "stream",
          "name": "stdout",
          "text": [
            "['i', 'me', 'my', 'myself', 'we', 'our', 'ours', 'ourselves', 'you', \"you're\", \"you've\", \"you'll\", \"you'd\", 'your', 'yours', 'yourself', 'yourselves', 'he', 'him', 'his', 'himself', 'she', \"she's\", 'her', 'hers', 'herself', 'it', \"it's\", 'its', 'itself', 'they', 'them', 'their', 'theirs', 'themselves', 'what', 'which', 'who', 'whom', 'this', 'that', \"that'll\", 'these', 'those', 'am', 'is', 'are', 'was', 'were', 'be', 'been', 'being', 'have', 'has', 'had', 'having', 'do', 'does', 'did', 'doing', 'a', 'an', 'the', 'and', 'but', 'if', 'or', 'because', 'as', 'until', 'while', 'of', 'at', 'by', 'for', 'with', 'about', 'against', 'between', 'into', 'through', 'during', 'before', 'after', 'above', 'below', 'to', 'from', 'up', 'down', 'in', 'out', 'on', 'off', 'over', 'under', 'again', 'further', 'then', 'once', 'here', 'there', 'when', 'where', 'why', 'how', 'all', 'any', 'both', 'each', 'few', 'more', 'most', 'other', 'some', 'such', 'no', 'nor', 'not', 'only', 'own', 'same', 'so', 'than', 'too', 'very', 's', 't', 'can', 'will', 'just', 'don', \"don't\", 'should', \"should've\", 'now', 'd', 'll', 'm', 'o', 're', 've', 'y', 'ain', 'aren', \"aren't\", 'couldn', \"couldn't\", 'didn', \"didn't\", 'doesn', \"doesn't\", 'hadn', \"hadn't\", 'hasn', \"hasn't\", 'haven', \"haven't\", 'isn', \"isn't\", 'ma', 'mightn', \"mightn't\", 'mustn', \"mustn't\", 'needn', \"needn't\", 'shan', \"shan't\", 'shouldn', \"shouldn't\", 'wasn', \"wasn't\", 'weren', \"weren't\", 'won', \"won't\", 'wouldn', \"wouldn't\"]\n"
          ]
        }
      ]
    },
    {
      "cell_type": "code",
      "source": [
        "print(df['clean_stop_words'])"
      ],
      "metadata": {
        "colab": {
          "base_uri": "https://localhost:8080/"
        },
        "id": "KP0zpuqjlJQS",
        "outputId": "72855e4b-57f0-4fab-e823-01cbe8765cb8"
      },
      "execution_count": 35,
      "outputs": [
        {
          "output_type": "stream",
          "name": "stdout",
          "text": [
            "0         bought several vitality canned dog food products found good quality product looks like stew processed meat smells better labrador finicky appreciates product better                                                                                                                                                                                      \n",
            "1         product arrived labeled jumbo salted peanutsthe peanuts actually small sized unsalted sure error vendor intended represent product jumbo                                                                                                                                                                                                                  \n",
            "2         confection around centuries light pillowy citrus gelatin nuts case filberts cut tiny squares liberally coated powdered sugar tiny mouthful heaven chewy flavorful highly recommend yummy treat familiar story cs lewis lion witch wardrobe treat seduces edmund selling brother sisters witch                                                             \n",
            "3         looking secret ingredient robitussin believe found got addition root beer extract ordered good made cherry soda flavor medicinal                                                                                                                                                                                                                          \n",
            "4         great taffy great price wide assortment yummy taffy delivery quick taffy lover deal                                                                                                                                                                                                                                                                       \n",
            "                                                 ...                                                                                                                                                                                                                                                                                                                \n",
            "240727    son loves mummums like fact messy like gerber biter biscuts                                                                                                                                                                                                                                                                                               \n",
            "240731    dog loves shes years old back teeth remove trouble chewing bones chew eat trouble                                                                                                                                                                                                                                                                         \n",
            "240732    love indian cuisine cant get middle texas good substitute eating totally healthy lots veggies lots wholegrain rices fits perfectly natural preservatives lots flavor good easy prepare hey make brown rice several varieties internetlook rose rice whole line made packaged india served country uk family nyc eat time cant get th street homemade close\n",
            "240733    wow variety pack little expensive paid twenty dollars local walmart makes around nine cents per mini bar im going give trickortreaters year                                                                                                                                                                                                               \n",
            "240753    NaN                                                                                                                                                                                                                                                                                                                                                       \n",
            "Name: Text, Length: 190902, dtype: object\n"
          ]
        }
      ]
    },
    {
      "cell_type": "markdown",
      "source": [
        "## 6. Perform word stemming and lemmetization"
      ],
      "metadata": {
        "id": "qDZRxqallvei"
      }
    },
    {
      "cell_type": "code",
      "source": [
        "from nltk.stem import PorterStemmer\n",
        "\n",
        "# Create a PorterStemmer object\n",
        "stemmer = PorterStemmer()\n",
        "\n",
        "# Define a function to perform word stemming on a string\n",
        "def perform_stemming(text):\n",
        "    # Check if the input is a string\n",
        "    if isinstance(text, str):\n",
        "        # Tokenize the text into words\n",
        "        words = word_tokenize(text)\n",
        "        # Stem each word in the list\n",
        "        stemmed_words = [stemmer.stem(word) for word in words]\n",
        "        # Join the stemmed words back into a string\n",
        "        return ' '.join(stemmed_words)\n",
        "    else:\n",
        "        # Return the input as is if it's not a string\n",
        "        return text\n",
        "\n",
        "# Apply the function to the 'clean_stop_words' column and store the result in a new column\n",
        "df['clean_stemming'] = df['clean_stop_words'].apply(perform_stemming)"
      ],
      "metadata": {
        "id": "NbE3H4HGlzIM"
      },
      "execution_count": 38,
      "outputs": []
    },
    {
      "cell_type": "code",
      "source": [
        "# Print the stemmed text\n",
        "print(df['clean_stemming'])"
      ],
      "metadata": {
        "colab": {
          "base_uri": "https://localhost:8080/"
        },
        "id": "GkIyqmX-l8Im",
        "outputId": "1096edac-1c15-461c-e315-dd25a5108ccf"
      },
      "execution_count": 39,
      "outputs": [
        {
          "output_type": "stream",
          "name": "stdout",
          "text": [
            "0         bought sever vital can dog food product found good qualiti product look like stew process meat smell better labrador finicki appreci product better                                                                                                                                                                     \n",
            "1         product arriv label jumbo salt peanutsth peanut actual small size unsalt sure error vendor intend repres product jumbo                                                                                                                                                                                                  \n",
            "2         confect around centuri light pillowi citru gelatin nut case filbert cut tini squar liber coat powder sugar tini mouth heaven chewi flavor highli recommend yummi treat familiar stori cs lewi lion witch wardrob treat seduc edmund sell brother sister witch                                                           \n",
            "3         look secret ingredi robitussin believ found got addit root beer extract order good made cherri soda flavor medicin                                                                                                                                                                                                      \n",
            "4         great taffi great price wide assort yummi taffi deliveri quick taffi lover deal                                                                                                                                                                                                                                         \n",
            "                                               ...                                                                                                                                                                                                                                                                                \n",
            "240727    son love mummum like fact messi like gerber biter biscut                                                                                                                                                                                                                                                                \n",
            "240731    dog love she year old back teeth remov troubl chew bone chew eat troubl                                                                                                                                                                                                                                                 \n",
            "240732    love indian cuisin cant get middl texa good substitut eat total healthi lot veggi lot wholegrain rice fit perfectli natur preserv lot flavor good easi prepar hey make brown rice sever varieti internetlook rose rice whole line made packag india serv countri uk famili nyc eat time cant get th street homemad close\n",
            "240733    wow varieti pack littl expens paid twenti dollar local walmart make around nine cent per mini bar im go give trickortreat year                                                                                                                                                                                          \n",
            "240753    NaN                                                                                                                                                                                                                                                                                                                     \n",
            "Name: Text, Length: 190902, dtype: object\n"
          ]
        }
      ]
    },
    {
      "cell_type": "code",
      "source": [
        "nltk.download('wordnet')\n",
        "from nltk.stem import WordNetLemmatizer\n",
        "\n",
        "# Create a WordNetLemmatizer object\n",
        "lemmatizer = WordNetLemmatizer()\n",
        "\n",
        "# Define a function to perform word lemmatization on a string\n",
        "def perform_lemmatization(text):\n",
        "    # Check if the input is a string\n",
        "    if isinstance(text, str):\n",
        "        # Tokenize the text into words\n",
        "        words = word_tokenize(text)\n",
        "        # Lemmatize each word in the list\n",
        "        lemmatized_words = [lemmatizer.lemmatize(word) for word in words]\n",
        "        # Join the lemmatized words back into a string\n",
        "        return ' '.join(lemmatized_words)\n",
        "    else:\n",
        "        # Return the input as is if it's not a string\n",
        "        return text\n",
        "\n",
        "# Apply the function to the 'clean_stemming' column and store the result in a new column\n",
        "df['clean_lemmatization'] = df['clean_stemming'].apply(perform_lemmatization)"
      ],
      "metadata": {
        "colab": {
          "base_uri": "https://localhost:8080/"
        },
        "id": "M7zjQn6qml9h",
        "outputId": "a07405af-ddec-469c-eb28-262008a5818f"
      },
      "execution_count": 41,
      "outputs": [
        {
          "output_type": "stream",
          "name": "stderr",
          "text": [
            "[nltk_data] Downloading package wordnet to /root/nltk_data...\n"
          ]
        }
      ]
    },
    {
      "cell_type": "code",
      "source": [
        "# Print the lemmatized text\n",
        "print(df['clean_lemmatization'])"
      ],
      "metadata": {
        "colab": {
          "base_uri": "https://localhost:8080/"
        },
        "id": "XtjK7fJ4nhLf",
        "outputId": "52e0c88d-3554-4a59-80ce-9edc1640009d"
      },
      "execution_count": 42,
      "outputs": [
        {
          "output_type": "stream",
          "name": "stdout",
          "text": [
            "0         bought sever vital can dog food product found good qualiti product look like stew process meat smell better labrador finicki appreci product better                                                                                                                                                                     \n",
            "1         product arriv label jumbo salt peanutsth peanut actual small size unsalt sure error vendor intend repres product jumbo                                                                                                                                                                                                  \n",
            "2         confect around centuri light pillowi citru gelatin nut case filbert cut tini squar liber coat powder sugar tini mouth heaven chewi flavor highli recommend yummi treat familiar stori c lewi lion witch wardrob treat seduc edmund sell brother sister witch                                                            \n",
            "3         look secret ingredi robitussin believ found got addit root beer extract order good made cherri soda flavor medicin                                                                                                                                                                                                      \n",
            "4         great taffi great price wide assort yummi taffi deliveri quick taffi lover deal                                                                                                                                                                                                                                         \n",
            "                                               ...                                                                                                                                                                                                                                                                                \n",
            "240727    son love mummum like fact messi like gerber biter biscut                                                                                                                                                                                                                                                                \n",
            "240731    dog love she year old back teeth remov troubl chew bone chew eat troubl                                                                                                                                                                                                                                                 \n",
            "240732    love indian cuisin cant get middl texa good substitut eat total healthi lot veggi lot wholegrain rice fit perfectli natur preserv lot flavor good easi prepar hey make brown rice sever varieti internetlook rose rice whole line made packag india serv countri uk famili nyc eat time cant get th street homemad close\n",
            "240733    wow varieti pack littl expens paid twenti dollar local walmart make around nine cent per mini bar im go give trickortreat year                                                                                                                                                                                          \n",
            "240753    NaN                                                                                                                                                                                                                                                                                                                     \n",
            "Name: Text, Length: 190902, dtype: object\n"
          ]
        }
      ]
    }
  ]
}
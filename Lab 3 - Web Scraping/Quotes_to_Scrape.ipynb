{
  "nbformat": 4,
  "nbformat_minor": 0,
  "metadata": {
    "colab": {
      "provenance": []
    },
    "kernelspec": {
      "name": "python3",
      "display_name": "Python 3"
    },
    "language_info": {
      "name": "python"
    }
  },
  "cells": [
    {
      "cell_type": "code",
      "execution_count": 1,
      "metadata": {
        "id": "lRbbtz0uJsxb"
      },
      "outputs": [],
      "source": [
        "import requests\n",
        "from bs4 import BeautifulSoup\n",
        "import csv"
      ]
    },
    {
      "cell_type": "code",
      "source": [
        "page = requests.get('https://quotes.toscrape.com/')"
      ],
      "metadata": {
        "id": "x8_Hwl24J4Ey"
      },
      "execution_count": 2,
      "outputs": []
    },
    {
      "cell_type": "code",
      "source": [
        "page"
      ],
      "metadata": {
        "colab": {
          "base_uri": "https://localhost:8080/"
        },
        "id": "pN8GdvYfJ9DY",
        "outputId": "3ca95061-af81-4162-d381-f37329b249c1"
      },
      "execution_count": 3,
      "outputs": [
        {
          "output_type": "execute_result",
          "data": {
            "text/plain": [
              "<Response [200]>"
            ]
          },
          "metadata": {},
          "execution_count": 3
        }
      ]
    },
    {
      "cell_type": "code",
      "source": [
        "soup = BeautifulSoup(page.text, 'html.parser')"
      ],
      "metadata": {
        "id": "FpQ6gmw3J9_p"
      },
      "execution_count": 4,
      "outputs": []
    },
    {
      "cell_type": "code",
      "source": [
        "quotes = []"
      ],
      "metadata": {
        "id": "ZmYNRZehKEWD"
      },
      "execution_count": 5,
      "outputs": []
    },
    {
      "cell_type": "code",
      "source": [
        "quote_elements = soup.find_all('div', class_='quote')"
      ],
      "metadata": {
        "id": "LYklld1SKHB4"
      },
      "execution_count": 6,
      "outputs": []
    },
    {
      "cell_type": "code",
      "source": [
        "for quote_element in quote_elements:\n",
        "  text = quote_element.find('span', class_='text').text\n",
        "\n",
        "  author = quote_element.find('small', class_='author').text\n",
        "\n",
        "  tag_elements = quote_element.select('.tags .tag')\n",
        "\n",
        "  tags = []\n",
        "\n",
        "  for tag_element in tag_elements:\n",
        "    tags.append(tag_element.text)\n",
        "\n",
        "  quotes.append(\n",
        "      {\n",
        "          'text': text,\n",
        "          'author': author,\n",
        "          'tags': ','.join(tags)\n",
        "      }\n",
        "  )"
      ],
      "metadata": {
        "id": "y4SyBF9hKOro"
      },
      "execution_count": 7,
      "outputs": []
    },
    {
      "cell_type": "code",
      "source": [
        "for quote in quotes:\n",
        "  print(\"Quote: \", quote['text'])\n",
        "  print(\"Author: \", quote['author'])\n",
        "  print(\"Tags: \", quote['tags'])\n",
        "  print()\n",
        "\n",
        "with open('quotes.csv', 'w', encoding='utf-8', newline='') as csvfile:\n",
        "  fieldnames = ['text', 'author', 'tags']\n",
        "  writer = csv.DictWriter(csvfile, fieldnames=fieldnames)\n",
        "\n",
        "  writer.writeheader()\n",
        "\n",
        "  for quote in quotes:\n",
        "    writer.writerow(quote)\n",
        "\n",
        "print(\"Quotes have been saved to quotes.csv\")"
      ],
      "metadata": {
        "colab": {
          "base_uri": "https://localhost:8080/"
        },
        "id": "x32H3Jk7LD8D",
        "outputId": "2bac9da1-d993-4a54-c3ac-fea10ee110c3"
      },
      "execution_count": 9,
      "outputs": [
        {
          "output_type": "stream",
          "name": "stdout",
          "text": [
            "Quote:  “The world as we have created it is a process of our thinking. It cannot be changed without changing our thinking.”\n",
            "Author:  Albert Einstein\n",
            "Tags:  change,deep-thoughts,thinking,world\n",
            "\n",
            "Quote:  “It is our choices, Harry, that show what we truly are, far more than our abilities.”\n",
            "Author:  J.K. Rowling\n",
            "Tags:  abilities,choices\n",
            "\n",
            "Quote:  “There are only two ways to live your life. One is as though nothing is a miracle. The other is as though everything is a miracle.”\n",
            "Author:  Albert Einstein\n",
            "Tags:  inspirational,life,live,miracle,miracles\n",
            "\n",
            "Quote:  “The person, be it gentleman or lady, who has not pleasure in a good novel, must be intolerably stupid.”\n",
            "Author:  Jane Austen\n",
            "Tags:  aliteracy,books,classic,humor\n",
            "\n",
            "Quote:  “Imperfection is beauty, madness is genius and it's better to be absolutely ridiculous than absolutely boring.”\n",
            "Author:  Marilyn Monroe\n",
            "Tags:  be-yourself,inspirational\n",
            "\n",
            "Quote:  “Try not to become a man of success. Rather become a man of value.”\n",
            "Author:  Albert Einstein\n",
            "Tags:  adulthood,success,value\n",
            "\n",
            "Quote:  “It is better to be hated for what you are than to be loved for what you are not.”\n",
            "Author:  André Gide\n",
            "Tags:  life,love\n",
            "\n",
            "Quote:  “I have not failed. I've just found 10,000 ways that won't work.”\n",
            "Author:  Thomas A. Edison\n",
            "Tags:  edison,failure,inspirational,paraphrased\n",
            "\n",
            "Quote:  “A woman is like a tea bag; you never know how strong it is until it's in hot water.”\n",
            "Author:  Eleanor Roosevelt\n",
            "Tags:  misattributed-eleanor-roosevelt\n",
            "\n",
            "Quote:  “A day without sunshine is like, you know, night.”\n",
            "Author:  Steve Martin\n",
            "Tags:  humor,obvious,simile\n",
            "\n",
            "Quotes have been saved to quotes.csv\n"
          ]
        }
      ]
    },
    {
      "cell_type": "code",
      "source": [],
      "metadata": {
        "id": "XTefcpFZL4Rj"
      },
      "execution_count": null,
      "outputs": []
    }
  ]
}